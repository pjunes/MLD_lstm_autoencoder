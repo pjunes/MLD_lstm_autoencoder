{
  "cells": [
    {
      "cell_type": "markdown",
      "metadata": {},
      "source": [
        "11.16 Data Checking"
      ]
    },
    {
      "cell_type": "markdown",
      "metadata": {},
      "source": [
        "1120 정상 비정상 데이터 같이 있는 데이터로 훈련 "
      ]
    },
    {
      "cell_type": "code",
      "execution_count": 2,
      "metadata": {
        "id": "5JfKAM45tNT7"
      },
      "outputs": [],
      "source": [
        "%matplotlib inline\n",
        "import matplotlib.pyplot as plt\n",
        "import seaborn as sns\n",
        "\n",
        "import pandas as pd\n",
        "import numpy as np\n",
        "from pylab import rcParams\n",
        "\n",
        "import tensorflow as tf\n",
        "import keras\n",
        "# from keras import optimizers, Sequential\n",
        "# from keras.models import Model\n",
        "# from keras.utils.vis_utils import plot_model\n",
        "# from keras.layers import Dense, LSTM, RepeatVector, TimeDistributed\n",
        "# from keras.callbacks import ModelCheckpoint, TensorBoard\n",
        "\n",
        "from tensorflow.keras import Sequential, Input\n",
        "from tensorflow.keras.layers import Dense, Flatten\n",
        "from tensorflow.keras.callbacks import EarlyStopping, ModelCheckpoint, ReduceLROnPlateau, CSVLogger\n",
        "\n",
        "from sklearn.preprocessing import StandardScaler\n",
        "from sklearn.model_selection import train_test_split\n",
        "from sklearn.metrics import confusion_matrix, precision_recall_curve\n",
        "from sklearn.metrics import recall_score, classification_report, auc, roc_curve\n",
        "from sklearn.metrics import precision_recall_fscore_support, f1_score\n",
        "\n",
        "from numpy.random import seed\n",
        "seed(7)\n",
        "tf.random.set_seed(11)\n",
        "\n",
        "from sklearn.model_selection import train_test_split\n",
        "\n",
        "SEED = 123   # used to help randomly select the data points\n",
        "DATA_SPLIT_PCT = 0.2\n",
        "\n",
        "rcParams['figure.figsize'] = 8, 6\n",
        "LABELS = [\"Normal\",\"Break\"]"
      ]
    },
    {
      "cell_type": "code",
      "execution_count": 3,
      "metadata": {},
      "outputs": [],
      "source": [
        "import os\n",
        "import csv\n",
        "\n",
        "# lab pc file dir\n",
        "# path_1 = \"C:/Users/sue33/Desktop/pjuns/DB/EM/Training/vibration/vibration/2.2kW/L-DEF-01/정상/\"\n",
        "# path_2 = \"C:/Users/sue33/Desktop/pjuns/DB/EM/Training/vibration/vibration/2.2kW/L-DSF-01/축정렬불량/\"\n",
        "\n",
        "# home pc file dir\n",
        "path_1 = \"G:/VSC/MLD/DB/정상/\"\n",
        "path_2 = \"G:/VSC/MLD/DB/축정렬불량/\"\n",
        "\n",
        "# number of test files(for each labels)\n",
        "file_num = 500\n",
        "\n",
        "file_list_1 = os.listdir(path_1)[:file_num]\n",
        "file_list_2 = os.listdir(path_2)[:file_num]\n",
        "file_list = file_list_1 + file_list_2"
      ]
    },
    {
      "cell_type": "code",
      "execution_count": 6,
      "metadata": {
        "id": "QLkcPUukpH6C"
      },
      "outputs": [],
      "source": [
        "# 파일로 부터 원하는 정보 추출\n",
        "\n",
        "raw_data = []\n",
        "\n",
        "for i, file_name in enumerate(file_list):\n",
        "    if i < file_num:\n",
        "        f = open(path_1+file_name, 'r', encoding='utf-8')\n",
        "    else:\n",
        "        f = open(path_2+file_name, 'r', encoding='utf-8')\n",
        "\n",
        "    # rdr : file to list\n",
        "    rdr = list(csv.reader(f))\n",
        "\n",
        "    label = int(rdr[3][1]) # y\n",
        "    value = np.array(list(rdr[9:]))[:, 1:2] # X\n",
        "\n",
        "    f.close()\n",
        "\n",
        "    data = [value, label]\n",
        "    raw_data.append(data)\n"
      ]
    },
    {
      "cell_type": "code",
      "execution_count": 7,
      "metadata": {},
      "outputs": [],
      "source": [
        "# 정보로 부터 학습에 사용할 벡터 생성\n",
        "\n",
        "column_name = ['y', 'x']\n",
        "temporalize_df = []\n",
        "\n",
        "for d in raw_data:\n",
        "    if d[1] == 0:\n",
        "        temp = np.concatenate((np.zeros((12000, 1)), d[0]), axis=1)\n",
        "    else:\n",
        "        temp = np.concatenate((np.ones((12000, 1)), d[0]), axis=1)\n",
        "        \n",
        "    temporalize_df.append(pd.DataFrame(temp, columns=column_name).astype(np.float32))"
      ]
    },
    {
      "cell_type": "code",
      "execution_count": 8,
      "metadata": {
        "id": "VIXbHzkP0f02"
      },
      "outputs": [],
      "source": [
        "# 시계열 데이터를 원하는 크기로 조각냄\n",
        "\n",
        "def temporalize(X, y, lookback):\n",
        "    output_X = []\n",
        "    output_y = []\n",
        "    for i in range(0, len(X)-lookback-1, lookback//2):\n",
        "        t = []\n",
        "        for j in range(1,lookback+1):\n",
        "            # Gather past records upto the lookback period\n",
        "            t.append(X[[(i+j+1)], :])\n",
        "        output_X.append(t)\n",
        "        output_y.append(y[i+lookback+1])\n",
        "    return output_X, output_y"
      ]
    },
    {
      "cell_type": "code",
      "execution_count": 9,
      "metadata": {},
      "outputs": [],
      "source": [
        "# 8개를 한 주기로 조각냄\n",
        "# 12000개의 시계열 데이터에서 최대 12000 - 7 개의 조각이 나오지만\n",
        "# 데이터가 너무 많아지면 학습에 사용할 컴퓨터의 성능 제약 때문에\n",
        "# 주기의 절반만큼 건너뛰게 하여 (12000//4)-(8//2) = 2998 개의 조각이 나오도록 함.\n",
        "\n",
        "n_features = 1\n",
        "lookback = 8\n",
        "\n",
        "X = []\n",
        "y = []\n",
        "\n",
        "for d in temporalize_df:\n",
        "    input_X = d.loc[:, d.columns != 'y'].values\n",
        "    input_y = d['y'].values\n",
        "\n",
        "    nX, ny = temporalize(X = input_X, y = input_y, lookback = lookback)\n",
        "    X.extend(nX)\n",
        "    y.extend(ny)"
      ]
    },
    {
      "cell_type": "code",
      "execution_count": 16,
      "metadata": {
        "id": "YSRo1zZ52G6M"
      },
      "outputs": [],
      "source": [
        "X = np.array(X)\n",
        "X_test = X.reshape(X.shape[0], lookback, n_features)\n",
        "y_test = np.array(y)"
      ]
    },
    {
      "cell_type": "code",
      "execution_count": 17,
      "metadata": {
        "id": "1P06eZEc2IuN"
      },
      "outputs": [],
      "source": [
        "# 학습에 사용하기 위해 원하는 모양으로 가공\n",
        "# 학습의 효율 증대를 위해 scaler 사용\n",
        "\n",
        "def flatten(X):\n",
        "    flattened_X = np.empty((X.shape[0], X.shape[2]))  # sample x features array.\n",
        "    for i in range(X.shape[0]):\n",
        "        flattened_X[i] = X[i, (X.shape[1]-1), :]\n",
        "    return(flattened_X)\n",
        "\n",
        "def scale(X, scaler):\n",
        "    for i in range(X.shape[0]):\n",
        "        X[i, :, :] = scaler.transform(X[i, :, :])\n",
        "    return X"
      ]
    },
    {
      "cell_type": "code",
      "execution_count": 18,
      "metadata": {
        "id": "bwwX9O-Z2Jcs"
      },
      "outputs": [],
      "source": [
        "scaler = StandardScaler().fit(flatten(X))"
      ]
    },
    {
      "cell_type": "code",
      "execution_count": 21,
      "metadata": {
        "id": "d20vzMRR6Bmz"
      },
      "outputs": [],
      "source": [
        "X_test_scaled = scale(X_test, scaler).astype(np.float32)"
      ]
    },
    {
      "cell_type": "code",
      "execution_count": 22,
      "metadata": {
        "id": "Z_-yMTeW6C_j"
      },
      "outputs": [],
      "source": [
        "timesteps =  X_test_scaled.shape[1] # equal to the lookback\n",
        "n_features =  X_test_scaled.shape[2] # 59"
      ]
    },
    {
      "cell_type": "code",
      "execution_count": 31,
      "metadata": {},
      "outputs": [],
      "source": [
        "# import joblib"
      ]
    },
    {
      "cell_type": "code",
      "execution_count": 37,
      "metadata": {},
      "outputs": [
        {
          "name": "stdout",
          "output_type": "stream",
          "text": [
            "WARNING:tensorflow:Layer lstm_16 will not use cuDNN kernels since it doesn't meet the criteria. It will use a generic GPU kernel as fallback when running on GPU.\n",
            "WARNING:tensorflow:Layer lstm_17 will not use cuDNN kernels since it doesn't meet the criteria. It will use a generic GPU kernel as fallback when running on GPU.\n",
            "WARNING:tensorflow:Layer lstm_18 will not use cuDNN kernels since it doesn't meet the criteria. It will use a generic GPU kernel as fallback when running on GPU.\n",
            "WARNING:tensorflow:Layer lstm_19 will not use cuDNN kernels since it doesn't meet the criteria. It will use a generic GPU kernel as fallback when running on GPU.\n"
          ]
        }
      ],
      "source": [
        "# 학습된 모델 불러옴\n",
        "\n",
        "lstm_autoencoder = keras.models.load_model(\"1123_model.h5\")"
      ]
    },
    {
      "cell_type": "code",
      "execution_count": 54,
      "metadata": {
        "colab": {
          "base_uri": "https://localhost:8080/",
          "height": 422
        },
        "id": "ZQOZZ7Fy-UgH",
        "outputId": "dceb7b78-d033-4d77-e4e7-9e8e2edf8d02"
      },
      "outputs": [
        {
          "name": "stdout",
          "output_type": "stream",
          "text": [
            "937/937 [==============================] - 13s 14ms/step\n"
          ]
        },
        {
          "data": {
            "image/png": "[encoded data removed]",
            "text/plain": [
              "<Figure size 800x600 with 1 Axes>"
            ]
          },
          "metadata": {},
          "output_type": "display_data"
        }
      ],
      "source": [
        "train_x_predictions = lstm_autoencoder.predict(X_test_scaled)\n",
        "mse = np.mean(np.power(flatten(X_test_scaled) - flatten(train_x_predictions), 2), axis=1)\n",
        "\n",
        "error_df = pd.DataFrame({'Reconstruction_error': mse,\n",
        "                        'True_class': y_test.tolist()})\n",
        "\n",
        "groups = error_df.groupby('True_class')\n",
        "fig, ax = plt.subplots()\n",
        "\n",
        "for name, group in groups:\n",
        "    ax.plot(group.index, group.Reconstruction_error, marker='o', ms=3.5, linestyle='',\n",
        "            label= \"Break\" if name == 1 else \"Normal\")\n",
        "ax.legend()\n",
        "plt.title(\"Reconstruction error for different classes\")\n",
        "plt.ylabel(\"Reconstruction error\")\n",
        "plt.xlabel(\"Data point index\")\n",
        "plt.show();"
      ]
    },
    {
      "cell_type": "code",
      "execution_count": 43,
      "metadata": {},
      "outputs": [
        {
          "name": "stdout",
          "output_type": "stream",
          "text": [
            "937/937 [==============================] - 13s 12ms/step\n"
          ]
        }
      ],
      "source": [
        "# test_x_predictions = lstm_autoencoder.predict(X_test_scaled[:])\n",
        "# mse = np.mean(np.power(flatten(X_test_scaled[:]) - flatten(test_x_predictions[:]), 2), axis=1)"
      ]
    },
    {
      "cell_type": "code",
      "execution_count": 44,
      "metadata": {},
      "outputs": [
        {
          "name": "stdout",
          "output_type": "stream",
          "text": [
            "937/937 [==============================] - 14s 15ms/step\n"
          ]
        }
      ],
      "source": [
        "# test_x_predictions_2 = lstm_autoencoder.predict(X_test_scaled[:])\n",
        "# mse_2 = np.mean(np.power(flatten(X_test_scaled[:]) - flatten(test_x_predictions_2[:]), 2), axis=1)"
      ]
    },
    {
      "cell_type": "code",
      "execution_count": 46,
      "metadata": {},
      "outputs": [],
      "source": [
        "import pickle\n",
        " \n",
        "## pickle은 python에 특화된 binary 파일\n",
        "# 예측값 저장\n",
        "with open(\"pred1000(half).pickle\",\"wb\") as f:\n",
        "    pickle.dump(test_x_predictions, f)\n",
        "# 예측값 mse 저장\n",
        "with open(\"pred1000(half)_mse.pickle\",\"wb\") as f:\n",
        "    pickle.dump(mse, f)\n",
        "    \n",
        "# 불러오는 방법\n",
        "# with open(\"pred1000(half).pickle\",\"rb\") as fi:\n",
        "#     test = pickle.load(fi)\n",
        " \n",
        "# 불러온 test의 type과 값 출력\n",
        "# print(type(test))\n",
        "# print(test)\n"
      ]
    },
    {
      "cell_type": "code",
      "execution_count": 55,
      "metadata": {},
      "outputs": [
        {
          "name": "stderr",
          "output_type": "stream",
          "text": [
            "g:\\anaconda3\\envs\\MLD\\lib\\site-packages\\numpy\\lib\\function_base.py:518: RuntimeWarning: Mean of empty slice.\n",
            "  avg = a.mean(axis, **keepdims_kw)\n",
            "g:\\anaconda3\\envs\\MLD\\lib\\site-packages\\numpy\\core\\_methods.py:190: RuntimeWarning: invalid value encountered in double_scalars\n",
            "  ret = ret.dtype.type(ret / rcount)\n"
          ]
        }
      ],
      "source": [
        "# Auto Encoder의 Pred로부터 고장 예측\n",
        "\n",
        "data_len = 2998\n",
        "percent005 = data_len//200 + 1\n",
        "new_Pred_y = [0 for i in range(1000)]\n",
        "True_y = [0 if i < 500 else 1 for i in range(1000)]\n",
        "\n",
        "threshold_fixed = 0.05\n",
        "\n",
        "for file_num in range(1000):\n",
        "    start = file_num * data_len\n",
        "    end = start + data_len + 1\n",
        "\n",
        "    part = mse[start:end]\n",
        "    \n",
        "    part.sort()\n",
        "    part = part[::-1]\n",
        "    part = part[:percent005]\n",
        "\n",
        "    if np.average(part) > threshold_fixed:\n",
        "        new_Pred_y[file_num] = 1"
      ]
    },
    {
      "cell_type": "code",
      "execution_count": 57,
      "metadata": {},
      "outputs": [
        {
          "name": "stdout",
          "output_type": "stream",
          "text": [
            "TruePos 0\n",
            "FalsePos 5\n",
            "FalseNeg 500\n",
            "TrueNeg 495\n"
          ]
        }
      ],
      "source": [
        "# 성능 Test\n",
        "\n",
        "FalsePos = 0\n",
        "TruePos = 0\n",
        "\n",
        "FalseNeg = 0\n",
        "TrueNeg = 0\n",
        "\n",
        "for i in range(len(new_Pred_y)):\n",
        "    if new_Pred_y[i] == 1:\n",
        "        if True_y[i] == 1:\n",
        "            TruePos += 1\n",
        "        else:\n",
        "            FalsePos += 1\n",
        "    else:\n",
        "        if True_y[i] == 1:\n",
        "            FalseNeg += 1\n",
        "        else:\n",
        "            TrueNeg += 1\n",
        "\n",
        "print(\"TruePos\", TruePos)\n",
        "print(\"FalsePos\", FalsePos)\n",
        "\n",
        "print(\"FalseNeg\", FalseNeg)\n",
        "print(\"TrueNeg\", TrueNeg)"
      ]
    }
  ],
  "metadata": {
    "colab": {
      "collapsed_sections": [],
      "provenance": []
    },
    "kernelspec": {
      "display_name": "Python 3.9.15 ('MLD')",
      "language": "python",
      "name": "python3"
    },
    "language_info": {
      "codemirror_mode": {
        "name": "ipython",
        "version": 3
      },
      "file_extension": ".py",
      "mimetype": "text/x-python",
      "name": "python",
      "nbconvert_exporter": "python",
      "pygments_lexer": "ipython3",
      "version": "3.9.15"
    },
    "vscode": {
      "interpreter": {
        "hash": "3f034d453c3fb2bf86437de0b09e70f0a12aaae35633fc87fca9928db8d9f9ef"
      }
    }
  },
  "nbformat": 4,
  "nbformat_minor": 0
}
